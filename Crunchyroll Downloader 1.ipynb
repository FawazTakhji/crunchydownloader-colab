{
  "nbformat": 4,
  "nbformat_minor": 0,
  "metadata": {
    "colab": {
      "name": "Crunchyroll Downloader",
      "provenance": [],
      "collapsed_sections": [],
      "authorship_tag": "ABX9TyOvcFvQRE8NlKIDiQE0Newt",
      "include_colab_link": true
    },
    "kernelspec": {
      "name": "python3",
      "display_name": "Python 3"
    }
  },
  "cells": [
    {
      "cell_type": "markdown",
      "metadata": {
        "id": "view-in-github",
        "colab_type": "text"
      },
      "source": [
        "<a href=\"https://colab.research.google.com/github/FawazTakhji/crunchydownloader-colab/blob/master/Crunchyroll%20Downloader%201.ipynb\" target=\"_parent\"><img src=\"https://colab.research.google.com/assets/colab-badge.svg\" alt=\"Open In Colab\"/></a>"
      ]
    },
    {
      "cell_type": "code",
      "metadata": {
        "id": "zrCAH1KgyLbT",
        "colab_type": "code",
        "cellView": "form",
        "colab": {}
      },
      "source": [
        "#@title ⬅️ Check Region\n",
        "!curl ipinfo.io"
      ],
      "execution_count": null,
      "outputs": []
    },
    {
      "cell_type": "code",
      "metadata": {
        "id": "G2YK1XkxGr6w",
        "colab_type": "code",
        "cellView": "form",
        "colab": {}
      },
      "source": [
        "#@title ⬅️ install some shit\n",
        "from google.colab import output\n",
        "!curl https://rclone.org/install.sh | sudo bash\n",
        "output.clear()\n",
        "!npm cache clean -f\n",
        "!npm install -g n\n",
        "!n stable\n",
        "!npm i -g npm\n",
        "!apt-get install mkvtoolnix\n",
        "output.clear()\n",
        "!git clone https://github.com/anidl/crunchyroll-downloader-nx\n",
        "output.clear()\n",
        "%cd crunchyroll-downloader-nx\n",
        "output.clear()\n",
        "!cp /usr/bin/ffmpeg /content/crunchyroll-downloader-nx/bin\n",
        "!cp /usr/bin/mkvmerge /content/crunchyroll-downloader-nx/bin\n",
        "output.clear()\n",
        "!npm i\n",
        "output.clear()\n",
        "!echo ✔✔✔✔✔"
      ],
      "execution_count": 2,
      "outputs": []
    },
    {
      "cell_type": "code",
      "metadata": {
        "id": "GLGT7NS3e7RO",
        "colab_type": "code",
        "cellView": "form",
        "colab": {}
      },
      "source": [
        "#@title ⬅️ install rclone config\n",
        "%mkdir /root/.config/rclone\n",
        "%cp /content/rclone.conf /root/.config/rclone\n",
        "output.clear()\n",
        "!echo ✔✔✔✔✔"
      ],
      "execution_count": 3,
      "outputs": []
    },
    {
      "cell_type": "code",
      "metadata": {
        "id": "bHflU2MiIb8n",
        "colab_type": "code",
        "colab": {}
      },
      "source": [
        "!node crunchy --search "
      ],
      "execution_count": null,
      "outputs": []
    },
    {
      "cell_type": "code",
      "metadata": {
        "id": "He0BiNddJFZQ",
        "colab_type": "code",
        "colab": {}
      },
      "source": [
        "!node crunchy -s  -e  -q "
      ],
      "execution_count": null,
      "outputs": []
    }
  ]
}